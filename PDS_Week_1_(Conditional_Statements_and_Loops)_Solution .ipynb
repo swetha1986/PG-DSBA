{
 "cells": [
  {
   "cell_type": "markdown",
   "metadata": {
    "id": "W9hh8peM7G5d"
   },
   "source": [
    "# Introduction to Programming using Python\n",
    "\n",
    "**Using Anaconda Distribution's Jupyter Notebook**\n",
    "\n",
    "## Conditional Statements and Loops"
   ]
  },
  {
   "cell_type": "markdown",
   "metadata": {
    "id": "HU_36CDM7G5h"
   },
   "source": [
    "## Conditional Statements\n",
    "\n",
    "- `IF condtion`\n",
    "- `IF-ELSE condition`\n",
    "- `Nested IF-ELSE condtion`\n",
    "\n",
    "### These statements are used to make decisions based on conditions\n",
    "\n",
    "**Syntax**\n",
    "\n",
    "    if test expression:\n",
    "           statement(s)\n",
    "  \n"
   ]
  },
  {
   "cell_type": "markdown",
   "metadata": {
    "id": "-KohkmSB7G5k"
   },
   "source": [
    "## IF condition"
   ]
  },
  {
   "cell_type": "code",
   "execution_count": null,
   "metadata": {
    "id": "4KZheTAV7G5m",
    "outputId": "6afa699a-0b0f-4925-d4f5-1db9af563f73"
   },
   "outputs": [
    {
     "name": "stdout",
     "output_type": "stream",
     "text": [
      "Hello World\n"
     ]
    }
   ],
   "source": [
    "#Example\n",
    "x=1\n",
    "if x>0:\n",
    "    print('Hello World')"
   ]
  },
  {
   "cell_type": "code",
   "execution_count": null,
   "metadata": {
    "id": "DKCS3POk7G51"
   },
   "outputs": [],
   "source": [
    "#Run the exact above code with x=0\n",
    "#Write your code here"
   ]
  },
  {
   "cell_type": "markdown",
   "metadata": {
    "id": "zR6mr-yH7G6F"
   },
   "source": [
    "## IF-ELSE condition"
   ]
  },
  {
   "cell_type": "code",
   "execution_count": null,
   "metadata": {
    "id": "sviem2-K7G6H",
    "outputId": "f9c88d3f-bf87-426e-e065-8cb69b80cfb0"
   },
   "outputs": [
    {
     "name": "stdout",
     "output_type": "stream",
     "text": [
      "Hi World\n"
     ]
    }
   ],
   "source": [
    "#Example\n",
    "x=0\n",
    "if x>0:\n",
    "    print('Hello World')\n",
    "else:\n",
    "    print('Hi World')\n"
   ]
  },
  {
   "cell_type": "markdown",
   "metadata": {
    "id": "OJfKM_i77G6T"
   },
   "source": [
    "## Nested IF-ELSE condition"
   ]
  },
  {
   "cell_type": "code",
   "execution_count": null,
   "metadata": {
    "id": "u83A0Y9E7G6V",
    "outputId": "fab5de0c-07c5-4c3c-89c9-0d0721da5b8e"
   },
   "outputs": [
    {
     "name": "stdout",
     "output_type": "stream",
     "text": [
      "c is the largest\n"
     ]
    }
   ],
   "source": [
    "# Write a code which can identify the largest number from 3 given numbers\n",
    "a=10\n",
    "b=11\n",
    "c=91\n",
    "if (a>b) and (a>c):\n",
    "    print('a is the largest')\n",
    "elif (a<b) and (b<c): # else - if \n",
    "    print('c is the largest')\n",
    "elif (a<b) and (a<c):\n",
    "    print('a is the smallest')\n",
    "elif (b>c) and (b>a):\n",
    "    print('b is the largest')\n",
    "#Play around by changing the values"
   ]
  },
  {
   "cell_type": "markdown",
   "metadata": {
    "id": "nN8pBEDT7G6f"
   },
   "source": [
    "## Advanced IF-ELSE"
   ]
  },
  {
   "cell_type": "markdown",
   "metadata": {
    "id": "RjYgvaOb7G6h"
   },
   "source": [
    "<img src =\"https://cdn.pixabay.com/photo/2019/04/02/09/27/income-tax-4097292_1280.jpg\" width=50% height =25%></img>\n",
    "\n",
    "<h1 style =\"font-family:Times;color:DarkBlue\"> Ms. George is a CA and is just bored of manually calculating her clients' tax slabs. She asks her daughter's friend, YOU!, yes You , to  help her automate this boring stuff.</h1>\n",
    "\n",
    "<h1 style =\"font-family:Times;color:DarkBlue\"><img src =\" https://cdn.pixabay.com/photo/2018/01/14/23/10/bored-3082829__340.jpg\" width=40% height =25%>\n",
    " Will you help her?</h1></img>"
   ]
  },
  {
   "cell_type": "markdown",
   "metadata": {
    "id": "b55drXmj7G6j"
   },
   "source": [
    ">Taxable income Tax Rate\n",
    "    \n",
    ">Up to Rs. 2,50,000\t            ***Nil***\n",
    "\n",
    ">Rs. 2,50,001 to Rs. 5,00,000\t***5%***\n",
    "\n",
    ">Rs. 5,00,001 to Rs. 7,50,000\t***10%***\n",
    "\n",
    ">Rs. 7,50,001 to Rs. 10,00,000\t***15%***\n",
    "\n",
    ">Rs. 10,00,001 to Rs. 12,50,000\t***20%***\n",
    "\n",
    ">Rs. 12,50,001 to Rs. 15,00,000\t***25%***\n",
    "\n",
    ">Above Rs. 15,00,000\t        ***30%***"
   ]
  },
  {
   "cell_type": "code",
   "execution_count": 3,
   "metadata": {
    "colab": {
     "base_uri": "https://localhost:8080/"
    },
    "id": "RdROthn37G6k",
    "outputId": "5eba0b45-3b71-4d9d-c99a-7383ddb70ece"
   },
   "outputs": [
    {
     "name": "stdout",
     "output_type": "stream",
     "text": [
      "Please enter you annual income! (please enter numbers only)1700000000\n",
      " Your Tax Slab is 30% and approx amount would be 510000000.0\n",
      "To check again, please re-run the program\n"
     ]
    }
   ],
   "source": [
    "\n",
    "#use above tax slabs and print the slab and amount that slab % costs the client\n",
    "\n",
    "income = int(input('Please enter you annual income! (please enter numbers only)'))\n",
    "\n",
    "tax_slabs = {'slab1':\"No Tax!!, woohoo\",'slab2':5,'slab3':10,'slab4':15,'slab5':20,'slab6':25,'slab7':30}\n",
    "\n",
    "if income <= 250000:\n",
    "    print(' You wont have to pay income tax as your income is less than 250000')\n",
    "elif (income>=250001) and (income<=500000):\n",
    "    print('Your Tax Slab is {}% and approx amount would be {}'.format(tax_slabs['slab2'],(tax_slabs['slab2']*income)/100))\n",
    "elif (income>=500001) and (income<=750000):\n",
    "    print('Your Tax Slab is {}% and approx amount would be {}'.format(tax_slabs['slab3'],(tax_slabs['slab3']*income)/100))\n",
    "elif (income>=750001) and (income<=1000000):\n",
    "    print('Your Tax Slab is {}% and approx amount would be {}'.format(tax_slabs['slab4'],(tax_slabs['slab4']*income)/100))\n",
    "elif (income>=1000001) and (income<=1250000):\n",
    "    print('Your Tax Slab is {}% and approx amount would be {}'.format(tax_slabs['slab5'],(tax_slabs['slab5']*income)/100))\n",
    "elif (income>=1250001) and (income<=1500000):\n",
    "    print('Your Tax Slab is {}% and approx amount would be {}'.format(tax_slabs['slab6'],(tax_slabs['slab6']*income)/100))\n",
    "elif (income>1500000):\n",
    "    print(' Your Tax Slab is {}% and approx amount would be {}'.format(\n",
    "        tax_slabs['slab7'],(tax_slabs['slab7']*income)/100))\n",
    "\n",
    "print('To check again, please re-run the program')\n"
   ]
  },
  {
   "cell_type": "markdown",
   "metadata": {
    "id": "BNyj0U3h7G7F"
   },
   "source": [
    "# Loops\n",
    "- FOR loop\n",
    "- While loop"
   ]
  },
  {
   "cell_type": "markdown",
   "metadata": {
    "id": "tRNcy9l57G7H"
   },
   "source": [
    "## `for` Loop"
   ]
  },
  {
   "cell_type": "code",
   "execution_count": null,
   "metadata": {
    "id": "gp7850pl7G7J",
    "outputId": "24549fba-52e3-42e9-fb4c-9c0b7c1478cc"
   },
   "outputs": [
    {
     "name": "stdout",
     "output_type": "stream",
     "text": [
      "Square of 1 is 1\n",
      "Square of 2 is 4\n",
      "Square of 3 is 9\n",
      "Square of 4 is 16\n",
      "Square of 5 is 25\n",
      "Square of 6 is 36\n",
      "Square of 7 is 49\n",
      "Square of 8 is 64\n",
      "Square of 9 is 81\n"
     ]
    }
   ],
   "source": [
    "#Printing square from 1 to 10\n",
    "x=[1,2,3,4,5,6,7,8,9]\n",
    "\n",
    "for i in x:#iterating in list x and printing each element of the list x along with its square\n",
    "    print('Square of {} is {}'.format(i,i*i))"
   ]
  },
  {
   "cell_type": "markdown",
   "metadata": {
    "id": "B2E9Cdqc7G8S"
   },
   "source": []
  },
  {
   "cell_type": "markdown",
   "metadata": {
    "id": "i_CU4ys87G8U"
   },
   "source": [
    "<h1 style =\"font-family:Times;color:DarkBlue\">Goods and Services Tax or simply GST. When this word comes, the local shopkeepers kind of feel irked because of the complex calculations and confusing guidelines. </h1>\n",
    "\n",
    "\n",
    "<img src =\"https://www.outlookindia.com/outlookmoney/public/uploads/article/gallery/a0bbda7bd6bac8ffd1816c339e5b71d8.jpg\" width=60% height =25%></img>\n",
    "\n",
    "\n",
    "<h1 style =\"font-family:Times;color:DarkBlue\">You gotta use your python skills to help your local shopkeeper calculate the Net Price for his shop's product provided below along with it's respective GST slab.</h1>\n",
    "\n",
    "<img src =\"https://i.imgflip.com/v1ymo.jpg\"></img>\n",
    "\n",
    "\n"
   ]
  },
  {
   "cell_type": "markdown",
   "metadata": {
    "id": "r_kJVwM1syJm"
   },
   "source": [
    "GST Amount = ( Original Cost * GST ) / 100\n",
    "\n",
    "Net Price = Original Cost + GST Amount"
   ]
  },
  {
   "cell_type": "markdown",
   "metadata": {
    "id": "Rh3ZRW79s6R0"
   },
   "source": [
    "#Given\n",
    "\n",
    "Product Cost / GST Slab\n",
    "\n",
    "Product1- 1000 / **18%**\n",
    "\n",
    "Product2- 250 / **18%**\n",
    "\n",
    "Product3- 125 / **5%**\n",
    "\n",
    "Product4- 345 / **18%**\n",
    "\n",
    "Product5- 820 / **12%**\n",
    "\n",
    "Product6- 980 / **5%**\n",
    "\n",
    "Product7- 500 / **12%**\n",
    "\n"
   ]
  },
  {
   "cell_type": "code",
   "execution_count": 3,
   "metadata": {
    "id": "QwnEwszg7G8V"
   },
   "outputs": [],
   "source": [
    "products_gst_slabs = {'Product1':18,'Product2':18,'Product3':5,'Product4':18,'Product5':12,'Product6':5,\n",
    "                          'Product7':12}\n",
    "\n",
    "products_original_cost = {'Product1':1000,'Product2':250,'Product3':125,'Product4':345,'Product5':820,'Product6':980,\n",
    "                          'Product7':500}"
   ]
  },
  {
   "cell_type": "code",
   "execution_count": 4,
   "metadata": {
    "colab": {
     "base_uri": "https://localhost:8080/"
    },
    "id": "gSvqH4X9uPPS",
    "outputId": "71b2463d-f75d-4052-95a8-2d0768e1e7d0"
   },
   "outputs": [
    {
     "name": "stdout",
     "output_type": "stream",
     "text": [
      "The net price of Product1 @ 18% GST is INR 1180.0\n",
      "The net price of Product2 @ 18% GST is INR 295.0\n",
      "The net price of Product3 @ 5% GST is INR 131.25\n",
      "The net price of Product4 @ 18% GST is INR 407.1\n",
      "The net price of Product5 @ 12% GST is INR 918.4\n",
      "The net price of Product6 @ 5% GST is INR 1029.0\n",
      "The net price of Product7 @ 12% GST is INR 560.0\n"
     ]
    }
   ],
   "source": [
    "for i in products_gst_slabs.keys():\n",
    "    gst_amt= (products_original_cost[i]*products_gst_slabs[i])/100\n",
    "    net_price=products_original_cost[i]+gst_amt\n",
    "    print('The net price of {} @ {}% GST is INR {}'.format(i,products_gst_slabs[i],net_price))"
   ]
  },
  {
   "cell_type": "markdown",
   "metadata": {
    "id": "YdkUKJdP7G7Y"
   },
   "source": [
    "## Using IF-ELSE with for Loop"
   ]
  },
  {
   "cell_type": "code",
   "execution_count": 5,
   "metadata": {
    "colab": {
     "base_uri": "https://localhost:8080/"
    },
    "id": "iZVZUDCH7G7b",
    "outputId": "6a56409d-2e9a-43f1-804c-ed3825518f16"
   },
   "outputs": [
    {
     "name": "stdout",
     "output_type": "stream",
     "text": [
      "Square of 0 is 0\n",
      "Square of 2 is 4\n",
      "Square of 4 is 16\n",
      "Square of 6 is 36\n",
      "Square of 8 is 64\n",
      "Square of 10 is 100\n",
      "Square of 12 is 144\n",
      "Square of 14 is 196\n",
      "Square of 16 is 256\n",
      "Square of 18 is 324\n",
      "Square of 20 is 400\n",
      "Square of 22 is 484\n",
      "Square of 24 is 576\n",
      "Square of 26 is 676\n",
      "Square of 28 is 784\n",
      "Square of 30 is 900\n",
      "Square of 32 is 1024\n",
      "Square of 34 is 1156\n",
      "Square of 36 is 1296\n",
      "Square of 38 is 1444\n",
      "Square of 40 is 1600\n",
      "Square of 42 is 1764\n",
      "Square of 44 is 1936\n",
      "Square of 46 is 2116\n",
      "Square of 48 is 2304\n",
      "Square of 50 is 2500\n",
      "Square of 52 is 2704\n",
      "Square of 54 is 2916\n",
      "Square of 56 is 3136\n",
      "Square of 58 is 3364\n",
      "Square of 60 is 3600\n",
      "Square of 62 is 3844\n",
      "Square of 64 is 4096\n",
      "Square of 66 is 4356\n",
      "Square of 68 is 4624\n",
      "Square of 70 is 4900\n",
      "Square of 72 is 5184\n",
      "Square of 74 is 5476\n",
      "Square of 76 is 5776\n",
      "Square of 78 is 6084\n",
      "Square of 80 is 6400\n",
      "Square of 82 is 6724\n",
      "Square of 84 is 7056\n",
      "Square of 86 is 7396\n",
      "Square of 88 is 7744\n",
      "Square of 90 is 8100\n",
      "Square of 92 is 8464\n",
      "Square of 94 is 8836\n",
      "Square of 96 is 9216\n",
      "Square of 98 is 9604\n",
      "Square of 100 is 10000\n"
     ]
    }
   ],
   "source": [
    "#Printing squares of even numbers from 1 to 100\n",
    "#range is used to get a list of numbers from a specified range. The last number is not printed as counting starts from 0 in python\n",
    "for i in range(0,101):\n",
    "    if i%2==0:\n",
    "        print('Square of {} is {}'.format(i,i*i))"
   ]
  },
  {
   "cell_type": "markdown",
   "metadata": {
    "id": "RHmNyrbd7G88"
   },
   "source": [
    "## `while` loop"
   ]
  },
  {
   "cell_type": "code",
   "execution_count": null,
   "metadata": {
    "id": "hVOvzuVS7G89",
    "outputId": "a555c0b1-2e89-4365-e58b-90edf05d1633"
   },
   "outputs": [
    {
     "name": "stdout",
     "output_type": "stream",
     "text": [
      "Square of 0 is 0\n",
      "Square of 1 is 1\n",
      "Square of 2 is 4\n",
      "Square of 3 is 9\n",
      "Square of 4 is 16\n",
      "Square of 5 is 25\n",
      "Square of 6 is 36\n",
      "Square of 7 is 49\n",
      "Square of 8 is 64\n",
      "Square of 9 is 81\n",
      "Square of 10 is 100\n"
     ]
    }
   ],
   "source": [
    "#Printing square from 1 to 10\n",
    "i=0\n",
    "while i<=10: #condition until i is less equal to 10, keep running\n",
    "    print('Square of {} is {}'.format(i,i*i))\n",
    "    i=i+1 #incrementing i after every print"
   ]
  },
  {
   "cell_type": "markdown",
   "metadata": {
    "id": "i0Llq6lz7G9C"
   },
   "source": [
    "## Using IF-ELSE with `while` Loop"
   ]
  },
  {
   "cell_type": "code",
   "execution_count": null,
   "metadata": {
    "id": "wGtD1cOD7G9D",
    "outputId": "e8480dfd-fcde-4eaa-ffd2-df0fb53a38b2"
   },
   "outputs": [
    {
     "name": "stdout",
     "output_type": "stream",
     "text": [
      "Square of 0 is 0\n",
      "Square of 2 is 4\n",
      "Square of 4 is 16\n",
      "Square of 6 is 36\n",
      "Square of 8 is 64\n",
      "Square of 10 is 100\n",
      "Square of 12 is 144\n",
      "Square of 14 is 196\n",
      "Square of 16 is 256\n",
      "Square of 18 is 324\n",
      "Square of 20 is 400\n",
      "Square of 22 is 484\n",
      "Square of 24 is 576\n",
      "Square of 26 is 676\n",
      "Square of 28 is 784\n",
      "Square of 30 is 900\n",
      "Square of 32 is 1024\n",
      "Square of 34 is 1156\n",
      "Square of 36 is 1296\n",
      "Square of 38 is 1444\n",
      "Square of 40 is 1600\n",
      "Square of 42 is 1764\n",
      "Square of 44 is 1936\n",
      "Square of 46 is 2116\n",
      "Square of 48 is 2304\n",
      "Square of 50 is 2500\n",
      "Square of 52 is 2704\n",
      "Square of 54 is 2916\n",
      "Square of 56 is 3136\n",
      "Square of 58 is 3364\n",
      "Square of 60 is 3600\n",
      "Square of 62 is 3844\n",
      "Square of 64 is 4096\n",
      "Square of 66 is 4356\n",
      "Square of 68 is 4624\n",
      "Square of 70 is 4900\n",
      "Square of 72 is 5184\n",
      "Square of 74 is 5476\n",
      "Square of 76 is 5776\n",
      "Square of 78 is 6084\n",
      "Square of 80 is 6400\n",
      "Square of 82 is 6724\n",
      "Square of 84 is 7056\n",
      "Square of 86 is 7396\n",
      "Square of 88 is 7744\n",
      "Square of 90 is 8100\n",
      "Square of 92 is 8464\n",
      "Square of 94 is 8836\n",
      "Square of 96 is 9216\n",
      "Square of 98 is 9604\n",
      "Square of 100 is 10000\n"
     ]
    }
   ],
   "source": [
    "#Printing squares of even numbers from 1 to 100\n",
    "i=0\n",
    "while i<=100:\n",
    "    if i%2==0:\n",
    "        print('Square of {} is {}'.format(i,i*i))\n",
    "    i=i+1"
   ]
  }
 ],
 "metadata": {
  "colab": {
   "collapsed_sections": [],
   "name": "PDS Week-1 (Conditional Statements and Loops).ipynb",
   "provenance": []
  },
  "kernelspec": {
   "display_name": "Python 3",
   "language": "python",
   "name": "python3"
  },
  "language_info": {
   "codemirror_mode": {
    "name": "ipython",
    "version": 3
   },
   "file_extension": ".py",
   "mimetype": "text/x-python",
   "name": "python",
   "nbconvert_exporter": "python",
   "pygments_lexer": "ipython3",
   "version": "3.7.3"
  },
  "toc": {
   "base_numbering": 1,
   "nav_menu": {},
   "number_sections": true,
   "sideBar": true,
   "skip_h1_title": false,
   "title_cell": "Table of Contents",
   "title_sidebar": "Contents",
   "toc_cell": false,
   "toc_position": {},
   "toc_section_display": true,
   "toc_window_display": false
  },
  "varInspector": {
   "cols": {
    "lenName": 16,
    "lenType": 16,
    "lenVar": 40
   },
   "kernels_config": {
    "python": {
     "delete_cmd_postfix": "",
     "delete_cmd_prefix": "del ",
     "library": "var_list.py",
     "varRefreshCmd": "print(var_dic_list())"
    },
    "r": {
     "delete_cmd_postfix": ") ",
     "delete_cmd_prefix": "rm(",
     "library": "var_list.r",
     "varRefreshCmd": "cat(var_dic_list()) "
    }
   },
   "types_to_exclude": [
    "module",
    "function",
    "builtin_function_or_method",
    "instance",
    "_Feature"
   ],
   "window_display": false
  }
 },
 "nbformat": 4,
 "nbformat_minor": 1
}
