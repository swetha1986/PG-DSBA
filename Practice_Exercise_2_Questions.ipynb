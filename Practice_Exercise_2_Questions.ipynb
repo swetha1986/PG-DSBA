{
  "nbformat": 4,
  "nbformat_minor": 0,
  "metadata": {
    "colab": {
      "name": "Practice Exercise-2_Questions",
      "provenance": [],
      "collapsed_sections": []
    },
    "kernelspec": {
      "name": "python3",
      "display_name": "Python 3"
    }
  },
  "cells": [
    {
      "cell_type": "markdown",
      "metadata": {
        "id": "42-KAc9Y8HeQ",
        "colab_type": "text"
      },
      "source": [
        "Q1.Check the data types of the below variables:\n",
        "a=50, b=10.4, c=\"Hello\""
      ]
    },
    {
      "cell_type": "code",
      "metadata": {
        "id": "BlsI6Ndn8VNV",
        "colab_type": "code",
        "colab": {}
      },
      "source": [
        "\n"
      ],
      "execution_count": 38,
      "outputs": []
    },
    {
      "cell_type": "markdown",
      "metadata": {
        "id": "rqsPIAw5-lVO",
        "colab_type": "text"
      },
      "source": [
        "Q2.Check whether the given string is in Upper case?\n",
        "\n",
        "String - \" My Name is Adam\""
      ]
    },
    {
      "cell_type": "code",
      "metadata": {
        "id": "YXkpHrMR-s1b",
        "colab_type": "code",
        "colab": {}
      },
      "source": [
        "\n"
      ],
      "execution_count": 38,
      "outputs": []
    },
    {
      "cell_type": "markdown",
      "metadata": {
        "id": "xzUsyo3m_BHS",
        "colab_type": "text"
      },
      "source": [
        "Q3.What is the length of the given string?\n",
        "\n",
        "String- \"My Name is Adam\""
      ]
    },
    {
      "cell_type": "code",
      "metadata": {
        "id": "KU1QQPs9_Jim",
        "colab_type": "code",
        "colab": {}
      },
      "source": [
        ""
      ],
      "execution_count": 38,
      "outputs": []
    },
    {
      "cell_type": "markdown",
      "metadata": {
        "id": "HFSUOTfE6JIg",
        "colab_type": "text"
      },
      "source": [
        "Q4.Write a code (using \"for\" loop) to print the sum of all elements in the list = [6, 5, 3, 8, 4, 2, 5, 4, 11, 43]?"
      ]
    },
    {
      "cell_type": "code",
      "metadata": {
        "id": "3XB7hVCG6U56",
        "colab_type": "code",
        "colab": {}
      },
      "source": [
        "\n"
      ],
      "execution_count": 38,
      "outputs": []
    },
    {
      "cell_type": "code",
      "metadata": {
        "id": "ZB9xkZjG6a5l",
        "colab_type": "code",
        "colab": {}
      },
      "source": [
        ""
      ],
      "execution_count": 38,
      "outputs": []
    },
    {
      "cell_type": "markdown",
      "metadata": {
        "id": "pLga0cw17K3Y",
        "colab_type": "text"
      },
      "source": [
        "Q5. Write a python code( using only while loop) which will only print the even numbers from 2 to 12. "
      ]
    },
    {
      "cell_type": "code",
      "metadata": {
        "id": "AAlqvWY-_y_1",
        "colab_type": "code",
        "colab": {}
      },
      "source": [
        ""
      ],
      "execution_count": 38,
      "outputs": []
    },
    {
      "cell_type": "markdown",
      "metadata": {
        "id": "Lhk0pYd6JdEy",
        "colab_type": "text"
      },
      "source": [
        "Q6.Write a python code( using the combination of if statement and while loop) which will only print the even numbers from 2 to 12."
      ]
    },
    {
      "cell_type": "code",
      "metadata": {
        "id": "_0HGsd6f60Nx",
        "colab_type": "code",
        "colab": {}
      },
      "source": [
        ""
      ],
      "execution_count": 38,
      "outputs": []
    },
    {
      "cell_type": "markdown",
      "metadata": {
        "id": "RvD0Q2FfKEQl",
        "colab_type": "text"
      },
      "source": [
        "Q7.Write a code( using if-else statement), which will print the minimum of the below given numbers.\n",
        "x=50,y=30,z=40"
      ]
    },
    {
      "cell_type": "code",
      "metadata": {
        "id": "0jAK2hSARHy_",
        "colab_type": "code",
        "colab": {}
      },
      "source": [
        ""
      ],
      "execution_count": 38,
      "outputs": []
    }
  ]
}